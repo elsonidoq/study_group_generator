{
 "cells": [
  {
   "cell_type": "markdown",
   "metadata": {},
   "source": [
    "# Levanto los datos"
   ]
  },
  {
   "cell_type": "code",
   "execution_count": 1,
   "metadata": {},
   "outputs": [
    {
     "data": {
      "text/plain": [
       "283"
      ]
     },
     "execution_count": 1,
     "metadata": {},
     "output_type": "execute_result"
    }
   ],
   "source": [
    "import pandas as pd\n",
    "\n",
    "df = pd.read_csv('/Users/przivic/Downloads/Registro para grupos de estudio 3.csv')\n",
    "\n",
    "df = df.rename(\n",
    "    columns={'Conocimientos de programación': 'coding_skills', 'Conocimientos de Machine Learning': 'ml_skills'}\n",
    ")\n",
    "\n",
    "len(df)"
   ]
  },
  {
   "cell_type": "markdown",
   "metadata": {},
   "source": [
    "# Miramos distribución de las 2 preguntas"
   ]
  },
  {
   "cell_type": "code",
   "execution_count": 2,
   "metadata": {},
   "outputs": [
    {
     "data": {
      "text/plain": [
       "<matplotlib.axes._subplots.AxesSubplot at 0x118b025e0>"
      ]
     },
     "execution_count": 2,
     "metadata": {},
     "output_type": "execute_result"
    },
    {
     "data": {
      "image/png": "[encoded data removed]",
      "text/plain": [
       "<Figure size 432x288 with 1 Axes>"
      ]
     },
     "metadata": {
      "needs_background": "light"
     },
     "output_type": "display_data"
    }
   ],
   "source": [
    "df.coding_skills.value_counts().sort_index().plot.bar()"
   ]
  },
  {
   "cell_type": "code",
   "execution_count": 3,
   "metadata": {},
   "outputs": [
    {
     "data": {
      "text/plain": [
       "<matplotlib.axes._subplots.AxesSubplot at 0x118de92e0>"
      ]
     },
     "execution_count": 3,
     "metadata": {},
     "output_type": "execute_result"
    },
    {
     "data": {
      "image/png": "[encoded data removed]",
      "text/plain": [
       "<Figure size 432x288 with 1 Axes>"
      ]
     },
     "metadata": {
      "needs_background": "light"
     },
     "output_type": "display_data"
    }
   ],
   "source": [
    "df.ml_skills.value_counts().sort_index().plot.bar()"
   ]
  },
  {
   "cell_type": "code",
   "execution_count": 4,
   "metadata": {},
   "outputs": [
    {
     "data": {
      "text/plain": [
       "<matplotlib.collections.PathCollection at 0x118fe3bb0>"
      ]
     },
     "execution_count": 4,
     "metadata": {},
     "output_type": "execute_result"
    },
    {
     "data": {
      "image/png": "[encoded data removed]",
      "text/plain": [
       "<Figure size 432x288 with 1 Axes>"
      ]
     },
     "metadata": {
      "needs_background": "light"
     },
     "output_type": "display_data"
    }
   ],
   "source": [
    "import matplotlib.pyplot as plt\n",
    "import numpy as np\n",
    "\n",
    "plt.scatter(\n",
    "    df.coding_skills + np.random.normal(0, 0.1, len(df)), \n",
    "    df.ml_skills + np.random.normal(0, 0.1, len(df)), \n",
    "    alpha=0.5\n",
    ")"
   ]
  },
  {
   "cell_type": "code",
   "execution_count": 5,
   "metadata": {},
   "outputs": [],
   "source": [
    "docs = df.to_dict(orient='records')"
   ]
  },
  {
   "cell_type": "code",
   "execution_count": 6,
   "metadata": {},
   "outputs": [],
   "source": [
    "from functools import partial\n",
    "import numpy as np\n",
    "\n",
    "def pool_skills(group, func, key):\n",
    "    return func([e[key] for e in group])\n",
    "\n",
    "max_coding_skills = partial(pool_skills, func=max, key='coding_skills')\n",
    "max_ml_skills = partial(pool_skills, func=max, key='ml_skills')\n",
    "min_coding_skills = partial(pool_skills, func=min, key='coding_skills')\n",
    "min_ml_skills = partial(pool_skills, func=min, key='ml_skills')\n",
    "\n",
    "def bottle_neck(groups):\n",
    "    # devuelve la suma de _bottle_neck\n",
    "    return sum(map(_bottle_neck, groups))\n",
    "\n",
    "def _bottle_neck(group):\n",
    "    # devuelve un numero positivo si hay menos de 2 personas que saben mas de 3 en alguna dimensión\n",
    "    return hinge(2 - len([e for e in group if max(e[k] for k in 'coding_skills ml_skills'.split()) >= 3]))\n",
    "\n",
    "def n_experts(group, key, min_value=5):\n",
    "    return len([e for e in group if e[key] >= min_value])\n",
    "    \n",
    "n_ml_experts = partial(n_experts, key='ml_skills')\n",
    "n_coding_experts = partial(n_experts, key='coding_skills')\n",
    "\n",
    "def n_rookies(group):\n",
    "    return len([e for e in group if e['ml_skills'] == e['coding_skills'] == 1])\n",
    "\n",
    "def hinge(n): return max(0, n)\n",
    "\n",
    "def var(groups, key):\n",
    "    # calcula la varianza respecto a una key\n",
    "    return sum([np.std([e[key] for e in group]) for group in groups])"
   ]
  },
  {
   "cell_type": "code",
   "execution_count": 7,
   "metadata": {},
   "outputs": [],
   "source": [
    "MIN_CODING_SKILLS = 4\n",
    "MIN_ML_SKILLS = 4\n",
    "\n",
    "def loss(groups):\n",
    "    return (\n",
    "        # Todos los grupos tienen que tener alguien que sepa de programacion\n",
    "        sum([hinge(MIN_CODING_SKILLS - max_coding_skills(g)) for g in groups]) + \n",
    "        # Todos los grupos tienen que tener alguien que sepa de machine learning\n",
    "        sum([hinge(MIN_ML_SKILLS - max_ml_skills(g)) for g in groups]) +\n",
    "\n",
    "        # No hay grupos de todos expertos\n",
    "        3 * sum([hinge(n_ml_experts(g) - 2) for g in groups]) + \n",
    "        3 * sum([hinge(n_coding_experts(g) - 2) for g in groups]) + \n",
    "        \n",
    "        # Maximo 1 rookie por grupo\n",
    "        3 * sum([hinge(n_rookies(g) - 1) for g in groups]) + \n",
    "\n",
    "        # Los grupos deben ser parejos en coding\n",
    "        var(groups, 'coding_skills') + \n",
    "        # Los grupos deben ser parejos en machine learning\n",
    "        var(groups, 'ml_skills') + \n",
    "        \n",
    "        # Definitivamente no tiene que haber una persona que sea \"la que sepa todo\"\n",
    "        bottle_neck(groups)\n",
    "    )"
   ]
  },
  {
   "cell_type": "code",
   "execution_count": 8,
   "metadata": {},
   "outputs": [],
   "source": [
    "from time import time\n",
    "from random import shuffle, choice\n",
    "from numba import jit\n",
    "\n",
    "def random_groups(docs, group_size=4):\n",
    "    # Crea una asignación al azar de grupos\n",
    "    shuffle(docs)\n",
    "    return [docs[start:start+group_size] for start in range(0, len(docs), group_size)]\n",
    "\n",
    "def improve_locally(current_sol):\n",
    "    # Toma el peor grupo segun la loss y trata de intercambiar con otros grupos \n",
    "    \n",
    "    i, worst = max(enumerate(current_sol), key=lambda x: loss([x[1]]))\n",
    "    worst_loss = loss([worst])\n",
    "    for j, other in enumerate(current_sol):\n",
    "        if i == j: continue\n",
    "        other_loss = loss([other])\n",
    "        \n",
    "        for wg_i, w_person in enumerate(worst):\n",
    "            for o_i, o_person in enumerate(other):\n",
    "                new_worst = replace(worst, wg_i, o_person)\n",
    "                new_other = replace(other, o_i, w_person)\n",
    "                \n",
    "                if loss([new_worst, new_other]) < worst_loss + other_loss:\n",
    "                    candidate = (\n",
    "                        [g for k, g in enumerate(current_sol) if k not in [i, j]] + \n",
    "                        [new_worst, new_other]\n",
    "                    )\n",
    "                    return candidate, loss(candidate)\n",
    "                \n",
    "    return current_sol, current_loss\n",
    "\n",
    "def replace(group, index, person):\n",
    "    res = group[:]\n",
    "    res[index] = person\n",
    "    return res"
   ]
  },
  {
   "cell_type": "code",
   "execution_count": 9,
   "metadata": {},
   "outputs": [],
   "source": [
    "from tqdm.notebook import tqdm\n",
    "\n",
    "def get_groups(docs, iters=150):\n",
    "    groups = random_groups(docs)\n",
    "    losses = []\n",
    "    t0 = time()\n",
    "    status = 'max_iter'\n",
    "    for i in range(iters):\n",
    "        groups, loss = improve_locally(groups)\n",
    "        if losses and losses[-1] == loss: \n",
    "            status = 'local_minima'\n",
    "            break\n",
    "        losses.append(loss)\n",
    "        \n",
    "    return groups, losses, status"
   ]
  },
  {
   "cell_type": "code",
   "execution_count": 11,
   "metadata": {},
   "outputs": [
    {
     "data": {
      "application/vnd.jupyter.widget-view+json": {
       "model_id": "a5e6c0a717b547d8b89962011fd4e20e",
       "version_major": 2,
       "version_minor": 0
      },
      "text/plain": [
       "HBox(children=(FloatProgress(value=0.0), HTML(value='')))"
      ]
     },
     "metadata": {},
     "output_type": "display_data"
    },
    {
     "name": "stdout",
     "output_type": "stream",
     "text": [
      "\n"
     ]
    }
   ],
   "source": [
    "solutions = []\n",
    "for i in tqdm(range(100)):\n",
    "    solutions.append(get_groups(docs, iters=400))"
   ]
  },
  {
   "cell_type": "code",
   "execution_count": 13,
   "metadata": {},
   "outputs": [
    {
     "data": {
      "text/plain": [
       "Counter({'local_minima': 100})"
      ]
     },
     "execution_count": 13,
     "metadata": {},
     "output_type": "execute_result"
    }
   ],
   "source": [
    "from collections import Counter\n",
    "\n",
    "# Vemos los statuses, a ver si las iteraciones estan bien\n",
    "Counter([e[-1] for e in solutions])"
   ]
  },
  {
   "cell_type": "code",
   "execution_count": 14,
   "metadata": {},
   "outputs": [],
   "source": [
    "import pickle as pkl\n",
    "\n",
    "with open('solutions.pkl', 'wb') as f:\n",
    "    pkl.dump(solutions, f, 2)"
   ]
  },
  {
   "cell_type": "code",
   "execution_count": 15,
   "metadata": {},
   "outputs": [],
   "source": [
    "best, best_losses, best_status = min(solutions, key=lambda x: x[1][-1])"
   ]
  },
  {
   "cell_type": "code",
   "execution_count": 16,
   "metadata": {},
   "outputs": [],
   "source": [
    "import pickle as pkl\n",
    "\n",
    "to_save = [[{k: e[k] for k in 'Username coding_skills ml_skills'.split()}  for e in g] for g in best]\n",
    "with open('groups.pkl', 'wb') as f:\n",
    "    pkl.dump(to_save, f)"
   ]
  },
  {
   "cell_type": "code",
   "execution_count": 17,
   "metadata": {},
   "outputs": [],
   "source": [
    "import encrypt\n",
    "\n",
    "encrypt.encrypt_file('groups.pkl')"
   ]
  },
  {
   "cell_type": "code",
   "execution_count": 42,
   "metadata": {},
   "outputs": [
    {
     "data": {
      "text/plain": [
       "[<matplotlib.lines.Line2D at 0x12209a7f0>]"
      ]
     },
     "execution_count": 42,
     "metadata": {},
     "output_type": "execute_result"
    },
    {
     "data": {
      "image/png": "[encoded data removed]",
      "text/plain": [
       "<Figure size 1080x360 with 1 Axes>"
      ]
     },
     "metadata": {
      "needs_background": "light"
     },
     "output_type": "display_data"
    }
   ],
   "source": [
    "import matplotlib.pyplot as plt\n",
    "\n",
    "plt.figure(figsize=(15,5))\n",
    "for g, l, s in solutions:\n",
    "    plt.plot(l, color='k', alpha=0.25)\n",
    "    \n",
    "plt.ylabel('loss')\n",
    "plt.xlabel('move_number')\n",
    "plt.plot(best_losses, lw=3)"
   ]
  },
  {
   "cell_type": "code",
   "execution_count": 43,
   "metadata": {},
   "outputs": [
    {
     "data": {
      "image/png": "[encoded data removed]",
      "text/plain": [
       "<Figure size 432x288 with 1 Axes>"
      ]
     },
     "metadata": {
      "needs_background": "light"
     },
     "output_type": "display_data"
    }
   ],
   "source": [
    "final_losses = [l[-1] for _, l, _ in solutions]\n",
    "plt.boxplot(final_losses);"
   ]
  },
  {
   "cell_type": "markdown",
   "metadata": {},
   "source": [
    "# Revisamos la mejor solucion y vemos que los grupos hayan quedado parejos"
   ]
  },
  {
   "cell_type": "code",
   "execution_count": 44,
   "metadata": {},
   "outputs": [
    {
     "data": {
      "image/png": "[encoded data removed]",
      "text/plain": [
       "<Figure size 432x288 with 1 Axes>"
      ]
     },
     "metadata": {
      "needs_background": "light"
     },
     "output_type": "display_data"
    },
    {
     "data": {
      "image/png": "[encoded data removed]",
      "text/plain": [
       "<Figure size 432x288 with 1 Axes>"
      ]
     },
     "metadata": {
      "needs_background": "light"
     },
     "output_type": "display_data"
    }
   ],
   "source": [
    "from collections import Counter\n",
    "\n",
    "x, y = list(zip(*sorted(Counter(list(map(min_coding_skills, best))).items())))\n",
    "plt.bar(x,y)\n",
    "plt.title('min coding skill per group')\n",
    "\n",
    "plt.figure()\n",
    "x, y = list(zip(*sorted(Counter(list(map(min_ml_skills, best))).items())))\n",
    "plt.bar(x,y)\n",
    "plt.title('min ml skill per group');"
   ]
  },
  {
   "cell_type": "code",
   "execution_count": 45,
   "metadata": {},
   "outputs": [
    {
     "data": {
      "image/png": "[encoded data removed]",
      "text/plain": [
       "<Figure size 432x288 with 1 Axes>"
      ]
     },
     "metadata": {
      "needs_background": "light"
     },
     "output_type": "display_data"
    },
    {
     "data": {
      "image/png": "[encoded data removed]",
      "text/plain": [
       "<Figure size 432x288 with 1 Axes>"
      ]
     },
     "metadata": {
      "needs_background": "light"
     },
     "output_type": "display_data"
    }
   ],
   "source": [
    "x, y = list(zip(*sorted(Counter(list(map(max_coding_skills, best))).items())))\n",
    "plt.bar(x,y)\n",
    "plt.title('max coding skill per group')\n",
    "\n",
    "plt.figure()\n",
    "x, y = list(zip(*sorted(Counter(list(map(max_ml_skills, best))).items())))\n",
    "plt.bar(x,y)\n",
    "plt.title('max ml skill per group');"
   ]
  },
  {
   "cell_type": "code",
   "execution_count": 46,
   "metadata": {
    "scrolled": false
   },
   "outputs": [
    {
     "name": "stdout",
     "output_type": "stream",
     "text": [
      "[{'coding_skills': 2, 'ml_skills': 3},\n",
      " {'coding_skills': 2, 'ml_skills': 1},\n",
      " {'coding_skills': 2, 'ml_skills': 1},\n",
      " {'coding_skills': 4, 'ml_skills': 1}]\n",
      "****************************************\n",
      "[{'coding_skills': 4, 'ml_skills': 3},\n",
      " {'coding_skills': 1, 'ml_skills': 1},\n",
      " {'coding_skills': 1, 'ml_skills': 2},\n",
      " {'coding_skills': 3, 'ml_skills': 2}]\n",
      "****************************************\n",
      "[{'coding_skills': 2, 'ml_skills': 1},\n",
      " {'coding_skills': 3, 'ml_skills': 1},\n",
      " {'coding_skills': 1, 'ml_skills': 1},\n",
      " {'coding_skills': 5, 'ml_skills': 4}]\n",
      "****************************************\n",
      "[{'coding_skills': 4, 'ml_skills': 3},\n",
      " {'coding_skills': 1, 'ml_skills': 2},\n",
      " {'coding_skills': 2, 'ml_skills': 1},\n",
      " {'coding_skills': 3, 'ml_skills': 2}]\n",
      "****************************************\n",
      "[{'coding_skills': 4, 'ml_skills': 4},\n",
      " {'coding_skills': 1, 'ml_skills': 1},\n",
      " {'coding_skills': 3, 'ml_skills': 1},\n",
      " {'coding_skills': 2, 'ml_skills': 2}]\n",
      "****************************************\n",
      "[{'coding_skills': 3, 'ml_skills': 1},\n",
      " {'coding_skills': 5, 'ml_skills': 3},\n",
      " {'coding_skills': 2, 'ml_skills': 1},\n",
      " {'coding_skills': 2, 'ml_skills': 1}]\n",
      "****************************************\n",
      "[{'coding_skills': 4, 'ml_skills': 4},\n",
      " {'coding_skills': 1, 'ml_skills': 1},\n",
      " {'coding_skills': 2, 'ml_skills': 2},\n",
      " {'coding_skills': 3, 'ml_skills': 1}]\n",
      "****************************************\n",
      "[{'coding_skills': 1, 'ml_skills': 1},\n",
      " {'coding_skills': 2, 'ml_skills': 2},\n",
      " {'coding_skills': 4, 'ml_skills': 4},\n",
      " {'coding_skills': 3, 'ml_skills': 2}]\n",
      "****************************************\n",
      "[{'coding_skills': 5, 'ml_skills': 2},\n",
      " {'coding_skills': 2, 'ml_skills': 2},\n",
      " {'coding_skills': 1, 'ml_skills': 1},\n",
      " {'coding_skills': 3, 'ml_skills': 3}]\n",
      "****************************************\n",
      "[{'coding_skills': 4, 'ml_skills': 4},\n",
      " {'coding_skills': 2, 'ml_skills': 1},\n",
      " {'coding_skills': 3, 'ml_skills': 1},\n",
      " {'coding_skills': 3, 'ml_skills': 2}]\n",
      "****************************************\n",
      "[{'coding_skills': 2, 'ml_skills': 1},\n",
      " {'coding_skills': 1, 'ml_skills': 1},\n",
      " {'coding_skills': 4, 'ml_skills': 4},\n",
      " {'coding_skills': 4, 'ml_skills': 3}]\n",
      "****************************************\n",
      "[{'coding_skills': 2, 'ml_skills': 2},\n",
      " {'coding_skills': 2, 'ml_skills': 2},\n",
      " {'coding_skills': 4, 'ml_skills': 2},\n",
      " {'coding_skills': 3, 'ml_skills': 4}]\n",
      "****************************************\n",
      "[{'coding_skills': 5, 'ml_skills': 4},\n",
      " {'coding_skills': 3, 'ml_skills': 2},\n",
      " {'coding_skills': 3, 'ml_skills': 2},\n",
      " {'coding_skills': 1, 'ml_skills': 1}]\n",
      "****************************************\n",
      "[{'coding_skills': 3, 'ml_skills': 2},\n",
      " {'coding_skills': 5, 'ml_skills': 3},\n",
      " {'coding_skills': 2, 'ml_skills': 2},\n",
      " {'coding_skills': 2, 'ml_skills': 2}]\n",
      "****************************************\n",
      "[{'coding_skills': 2, 'ml_skills': 1},\n",
      " {'coding_skills': 3, 'ml_skills': 2},\n",
      " {'coding_skills': 4, 'ml_skills': 1},\n",
      " {'coding_skills': 4, 'ml_skills': 5}]\n",
      "****************************************\n",
      "[{'coding_skills': 2, 'ml_skills': 2},\n",
      " {'coding_skills': 4, 'ml_skills': 4},\n",
      " {'coding_skills': 1, 'ml_skills': 1},\n",
      " {'coding_skills': 5, 'ml_skills': 3}]\n",
      "****************************************\n",
      "[{'coding_skills': 2, 'ml_skills': 1},\n",
      " {'coding_skills': 5, 'ml_skills': 4},\n",
      " {'coding_skills': 3, 'ml_skills': 1},\n",
      " {'coding_skills': 4, 'ml_skills': 2}]\n",
      "****************************************\n",
      "[{'coding_skills': 2, 'ml_skills': 2},\n",
      " {'coding_skills': 1, 'ml_skills': 1},\n",
      " {'coding_skills': 5, 'ml_skills': 3},\n",
      " {'coding_skills': 4, 'ml_skills': 4}]\n",
      "****************************************\n",
      "[{'coding_skills': 3, 'ml_skills': 2},\n",
      " {'coding_skills': 3, 'ml_skills': 3},\n",
      " {'coding_skills': 3, 'ml_skills': 2},\n",
      " {'coding_skills': 4, 'ml_skills': 2}]\n",
      "****************************************\n",
      "[{'coding_skills': 2, 'ml_skills': 2},\n",
      " {'coding_skills': 5, 'ml_skills': 4},\n",
      " {'coding_skills': 1, 'ml_skills': 1},\n",
      " {'coding_skills': 5, 'ml_skills': 3}]\n",
      "****************************************\n",
      "[{'coding_skills': 6, 'ml_skills': 2},\n",
      " {'coding_skills': 1, 'ml_skills': 1},\n",
      " {'coding_skills': 2, 'ml_skills': 2},\n",
      " {'coding_skills': 5, 'ml_skills': 4}]\n",
      "****************************************\n",
      "[{'coding_skills': 6, 'ml_skills': 2},\n",
      " {'coding_skills': 1, 'ml_skills': 2},\n",
      " {'coding_skills': 2, 'ml_skills': 1},\n",
      " {'coding_skills': 5, 'ml_skills': 4}]\n",
      "****************************************\n",
      "[{'coding_skills': 3, 'ml_skills': 2},\n",
      " {'coding_skills': 4, 'ml_skills': 2},\n",
      " {'coding_skills': 3, 'ml_skills': 3},\n",
      " {'coding_skills': 3, 'ml_skills': 3}]\n",
      "****************************************\n",
      "[{'coding_skills': 1, 'ml_skills': 2},\n",
      " {'coding_skills': 2, 'ml_skills': 3},\n",
      " {'coding_skills': 6, 'ml_skills': 5},\n",
      " {'coding_skills': 3, 'ml_skills': 2}]\n",
      "****************************************\n",
      "[{'coding_skills': 3, 'ml_skills': 1},\n",
      " {'coding_skills': 5, 'ml_skills': 1},\n",
      " {'coding_skills': 5, 'ml_skills': 1},\n",
      " {'coding_skills': 4, 'ml_skills': 4}]\n",
      "****************************************\n",
      "[{'coding_skills': 4, 'ml_skills': 4},\n",
      " {'coding_skills': 5, 'ml_skills': 1},\n",
      " {'coding_skills': 5, 'ml_skills': 1},\n",
      " {'coding_skills': 2, 'ml_skills': 2}]\n",
      "****************************************\n",
      "[{'coding_skills': 2, 'ml_skills': 2},\n",
      " {'coding_skills': 1, 'ml_skills': 3},\n",
      " {'coding_skills': 4, 'ml_skills': 4},\n",
      " {'coding_skills': 5, 'ml_skills': 3}]\n",
      "****************************************\n",
      "[{'coding_skills': 3, 'ml_skills': 1},\n",
      " {'coding_skills': 4, 'ml_skills': 2},\n",
      " {'coding_skills': 4, 'ml_skills': 1},\n",
      " {'coding_skills': 5, 'ml_skills': 4}]\n",
      "****************************************\n",
      "[{'coding_skills': 3, 'ml_skills': 4},\n",
      " {'coding_skills': 3, 'ml_skills': 3},\n",
      " {'coding_skills': 4, 'ml_skills': 2},\n",
      " {'coding_skills': 3, 'ml_skills': 2}]\n",
      "****************************************\n",
      "[{'coding_skills': 2, 'ml_skills': 2},\n",
      " {'coding_skills': 3, 'ml_skills': 1},\n",
      " {'coding_skills': 3, 'ml_skills': 3},\n",
      " {'coding_skills': 5, 'ml_skills': 5}]\n",
      "****************************************\n",
      "[{'coding_skills': 3, 'ml_skills': 1},\n",
      " {'coding_skills': 3, 'ml_skills': 1},\n",
      " {'coding_skills': 7, 'ml_skills': 4},\n",
      " {'coding_skills': 5, 'ml_skills': 1}]\n",
      "****************************************\n",
      "[{'coding_skills': 3, 'ml_skills': 2},\n",
      " {'coding_skills': 4, 'ml_skills': 4},\n",
      " {'coding_skills': 3, 'ml_skills': 3},\n",
      " {'coding_skills': 3, 'ml_skills': 3}]\n",
      "****************************************\n",
      "[{'coding_skills': 1, 'ml_skills': 1},\n",
      " {'coding_skills': 5, 'ml_skills': 5},\n",
      " {'coding_skills': 5, 'ml_skills': 3},\n",
      " {'coding_skills': 3, 'ml_skills': 2}]\n",
      "****************************************\n",
      "[{'coding_skills': 5, 'ml_skills': 4},\n",
      " {'coding_skills': 3, 'ml_skills': 3},\n",
      " {'coding_skills': 2, 'ml_skills': 2},\n",
      " {'coding_skills': 3, 'ml_skills': 3}]\n",
      "****************************************\n",
      "[{'coding_skills': 7, 'ml_skills': 1},\n",
      " {'coding_skills': 5, 'ml_skills': 4},\n",
      " {'coding_skills': 2, 'ml_skills': 1},\n",
      " {'coding_skills': 4, 'ml_skills': 1}]\n",
      "****************************************\n",
      "[{'coding_skills': 7, 'ml_skills': 4},\n",
      " {'coding_skills': 7, 'ml_skills': 2},\n",
      " {'coding_skills': 4, 'ml_skills': 2}]\n",
      "****************************************\n",
      "[{'coding_skills': 5, 'ml_skills': 2},\n",
      " {'coding_skills': 3, 'ml_skills': 2},\n",
      " {'coding_skills': 4, 'ml_skills': 4},\n",
      " {'coding_skills': 5, 'ml_skills': 1}]\n",
      "****************************************\n",
      "[{'coding_skills': 6, 'ml_skills': 4},\n",
      " {'coding_skills': 2, 'ml_skills': 3},\n",
      " {'coding_skills': 3, 'ml_skills': 2},\n",
      " {'coding_skills': 3, 'ml_skills': 3}]\n",
      "****************************************\n",
      "[{'coding_skills': 5, 'ml_skills': 2},\n",
      " {'coding_skills': 2, 'ml_skills': 2},\n",
      " {'coding_skills': 7, 'ml_skills': 4},\n",
      " {'coding_skills': 3, 'ml_skills': 2}]\n",
      "****************************************\n",
      "[{'coding_skills': 6, 'ml_skills': 4},\n",
      " {'coding_skills': 7, 'ml_skills': 2},\n",
      " {'coding_skills': 2, 'ml_skills': 2},\n",
      " {'coding_skills': 2, 'ml_skills': 2}]\n",
      "****************************************\n",
      "[{'coding_skills': 3, 'ml_skills': 2},\n",
      " {'coding_skills': 5, 'ml_skills': 5},\n",
      " {'coding_skills': 6, 'ml_skills': 3},\n",
      " {'coding_skills': 2, 'ml_skills': 2}]\n",
      "****************************************\n",
      "[{'coding_skills': 4, 'ml_skills': 2},\n",
      " {'coding_skills': 4, 'ml_skills': 5},\n",
      " {'coding_skills': 5, 'ml_skills': 1},\n",
      " {'coding_skills': 5, 'ml_skills': 2}]\n",
      "****************************************\n",
      "[{'coding_skills': 6, 'ml_skills': 2},\n",
      " {'coding_skills': 4, 'ml_skills': 2},\n",
      " {'coding_skills': 3, 'ml_skills': 3},\n",
      " {'coding_skills': 4, 'ml_skills': 4}]\n",
      "****************************************\n",
      "[{'coding_skills': 6, 'ml_skills': 4},\n",
      " {'coding_skills': 2, 'ml_skills': 2},\n",
      " {'coding_skills': 4, 'ml_skills': 3},\n",
      " {'coding_skills': 4, 'ml_skills': 3}]\n",
      "****************************************\n",
      "[{'coding_skills': 3, 'ml_skills': 2},\n",
      " {'coding_skills': 3, 'ml_skills': 4},\n",
      " {'coding_skills': 7, 'ml_skills': 2},\n",
      " {'coding_skills': 6, 'ml_skills': 2}]\n",
      "****************************************\n",
      "[{'coding_skills': 4, 'ml_skills': 2},\n",
      " {'coding_skills': 4, 'ml_skills': 3},\n",
      " {'coding_skills': 5, 'ml_skills': 4},\n",
      " {'coding_skills': 5, 'ml_skills': 2}]\n",
      "****************************************\n",
      "[{'coding_skills': 3, 'ml_skills': 4},\n",
      " {'coding_skills': 6, 'ml_skills': 2},\n",
      " {'coding_skills': 2, 'ml_skills': 2},\n",
      " {'coding_skills': 7, 'ml_skills': 3}]\n",
      "****************************************\n",
      "[{'coding_skills': 4, 'ml_skills': 1},\n",
      " {'coding_skills': 6, 'ml_skills': 5},\n",
      " {'coding_skills': 7, 'ml_skills': 1},\n",
      " {'coding_skills': 4, 'ml_skills': 1}]\n",
      "****************************************\n",
      "[{'coding_skills': 7, 'ml_skills': 4},\n",
      " {'coding_skills': 7, 'ml_skills': 2},\n",
      " {'coding_skills': 2, 'ml_skills': 2},\n",
      " {'coding_skills': 4, 'ml_skills': 2}]\n",
      "****************************************\n",
      "[{'coding_skills': 7, 'ml_skills': 2},\n",
      " {'coding_skills': 6, 'ml_skills': 3},\n",
      " {'coding_skills': 4, 'ml_skills': 2},\n",
      " {'coding_skills': 4, 'ml_skills': 2}]\n",
      "****************************************\n",
      "[{'coding_skills': 7, 'ml_skills': 2},\n",
      " {'coding_skills': 4, 'ml_skills': 2},\n",
      " {'coding_skills': 7, 'ml_skills': 2},\n",
      " {'coding_skills': 3, 'ml_skills': 3}]\n",
      "****************************************\n",
      "[{'coding_skills': 7, 'ml_skills': 3},\n",
      " {'coding_skills': 5, 'ml_skills': 2},\n",
      " {'coding_skills': 4, 'ml_skills': 4},\n",
      " {'coding_skills': 3, 'ml_skills': 2}]\n",
      "****************************************\n",
      "[{'coding_skills': 3, 'ml_skills': 3},\n",
      " {'coding_skills': 7, 'ml_skills': 2},\n",
      " {'coding_skills': 3, 'ml_skills': 2},\n",
      " {'coding_skills': 5, 'ml_skills': 5}]\n",
      "****************************************\n",
      "[{'coding_skills': 4, 'ml_skills': 4},\n",
      " {'coding_skills': 3, 'ml_skills': 3},\n",
      " {'coding_skills': 5, 'ml_skills': 3},\n",
      " {'coding_skills': 5, 'ml_skills': 3}]\n",
      "****************************************\n",
      "[{'coding_skills': 3, 'ml_skills': 2},\n",
      " {'coding_skills': 3, 'ml_skills': 3},\n",
      " {'coding_skills': 7, 'ml_skills': 3},\n",
      " {'coding_skills': 6, 'ml_skills': 4}]\n",
      "****************************************\n",
      "[{'coding_skills': 7, 'ml_skills': 2},\n",
      " {'coding_skills': 4, 'ml_skills': 4},\n",
      " {'coding_skills': 6, 'ml_skills': 1},\n",
      " {'coding_skills': 4, 'ml_skills': 3}]\n",
      "****************************************\n",
      "[{'coding_skills': 4, 'ml_skills': 4},\n",
      " {'coding_skills': 7, 'ml_skills': 2},\n",
      " {'coding_skills': 4, 'ml_skills': 1},\n",
      " {'coding_skills': 7, 'ml_skills': 3}]\n",
      "****************************************\n",
      "[{'coding_skills': 3, 'ml_skills': 5},\n",
      " {'coding_skills': 4, 'ml_skills': 2},\n",
      " {'coding_skills': 7, 'ml_skills': 2},\n",
      " {'coding_skills': 7, 'ml_skills': 2}]\n",
      "****************************************\n",
      "[{'coding_skills': 6, 'ml_skills': 3},\n",
      " {'coding_skills': 3, 'ml_skills': 3},\n",
      " {'coding_skills': 3, 'ml_skills': 4},\n",
      " {'coding_skills': 6, 'ml_skills': 4}]\n",
      "****************************************\n",
      "[{'coding_skills': 7, 'ml_skills': 2},\n",
      " {'coding_skills': 4, 'ml_skills': 3},\n",
      " {'coding_skills': 4, 'ml_skills': 4},\n",
      " {'coding_skills': 7, 'ml_skills': 2}]\n",
      "****************************************\n",
      "[{'coding_skills': 4, 'ml_skills': 2},\n",
      " {'coding_skills': 4, 'ml_skills': 2},\n",
      " {'coding_skills': 6, 'ml_skills': 6},\n",
      " {'coding_skills': 7, 'ml_skills': 2}]\n",
      "****************************************\n",
      "[{'coding_skills': 6, 'ml_skills': 6},\n",
      " {'coding_skills': 4, 'ml_skills': 2},\n",
      " {'coding_skills': 6, 'ml_skills': 5},\n",
      " {'coding_skills': 4, 'ml_skills': 1}]\n",
      "****************************************\n",
      "[{'coding_skills': 3, 'ml_skills': 3},\n",
      " {'coding_skills': 7, 'ml_skills': 6},\n",
      " {'coding_skills': 6, 'ml_skills': 3},\n",
      " {'coding_skills': 3, 'ml_skills': 3}]\n",
      "****************************************\n",
      "[{'coding_skills': 7, 'ml_skills': 3},\n",
      " {'coding_skills': 4, 'ml_skills': 3},\n",
      " {'coding_skills': 6, 'ml_skills': 5},\n",
      " {'coding_skills': 4, 'ml_skills': 3}]\n",
      "****************************************\n",
      "[{'coding_skills': 7, 'ml_skills': 3},\n",
      " {'coding_skills': 7, 'ml_skills': 3},\n",
      " {'coding_skills': 4, 'ml_skills': 3},\n",
      " {'coding_skills': 4, 'ml_skills': 4}]\n",
      "****************************************\n",
      "[{'coding_skills': 5, 'ml_skills': 5},\n",
      " {'coding_skills': 4, 'ml_skills': 3},\n",
      " {'coding_skills': 4, 'ml_skills': 2},\n",
      " {'coding_skills': 7, 'ml_skills': 6}]\n",
      "****************************************\n",
      "[{'coding_skills': 4, 'ml_skills': 3},\n",
      " {'coding_skills': 3, 'ml_skills': 3},\n",
      " {'coding_skills': 7, 'ml_skills': 7},\n",
      " {'coding_skills': 5, 'ml_skills': 6}]\n",
      "****************************************\n",
      "[{'coding_skills': 3, 'ml_skills': 3},\n",
      " {'coding_skills': 7, 'ml_skills': 4},\n",
      " {'coding_skills': 4, 'ml_skills': 5},\n",
      " {'coding_skills': 7, 'ml_skills': 5}]\n",
      "****************************************\n",
      "[{'coding_skills': 7, 'ml_skills': 7},\n",
      " {'coding_skills': 7, 'ml_skills': 7},\n",
      " {'coding_skills': 3, 'ml_skills': 3},\n",
      " {'coding_skills': 3, 'ml_skills': 3}]\n",
      "****************************************\n",
      "[{'coding_skills': 4, 'ml_skills': 4},\n",
      " {'coding_skills': 4, 'ml_skills': 3},\n",
      " {'coding_skills': 7, 'ml_skills': 6},\n",
      " {'coding_skills': 7, 'ml_skills': 7}]\n",
      "****************************************\n",
      "[{'coding_skills': 7, 'ml_skills': 7},\n",
      " {'coding_skills': 7, 'ml_skills': 7},\n",
      " {'coding_skills': 4, 'ml_skills': 4},\n",
      " {'coding_skills': 4, 'ml_skills': 4}]\n",
      "****************************************\n"
     ]
    }
   ],
   "source": [
    "from pprint import pprint\n",
    "\n",
    "def tot_skills(g):\n",
    "    return sum([e['coding_skills'] + e['ml_skills'] for e in g])\n",
    "\n",
    "for g in sorted(best, key=tot_skills):\n",
    "    pprint([{k: d[k] for k in 'ml_skills coding_skills'.split()} for d in g])\n",
    "    print(\"*\"*40)"
   ]
  },
  {
   "cell_type": "code",
   "execution_count": null,
   "metadata": {},
   "outputs": [],
   "source": []
  }
 ],
 "metadata": {
  "kernelspec": {
   "display_name": "Python 3",
   "language": "python",
   "name": "python3"
  },
  "language_info": {
   "codemirror_mode": {
    "name": "ipython",
    "version": 3
   },
   "file_extension": ".py",
   "mimetype": "text/x-python",
   "name": "python",
   "nbconvert_exporter": "python",
   "pygments_lexer": "ipython3",
   "version": "3.8.3"
  }
 },
 "nbformat": 4,
 "nbformat_minor": 4
}
