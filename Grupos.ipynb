{
 "cells": [
  {
   "cell_type": "markdown",
   "metadata": {},
   "source": [
    "# Levanto los datos"
   ]
  },
  {
   "cell_type": "code",
   "execution_count": 1,
   "metadata": {},
   "outputs": [
    {
     "data": {
      "text/plain": [
       "143"
      ]
     },
     "execution_count": 1,
     "metadata": {},
     "output_type": "execute_result"
    }
   ],
   "source": [
    "import pandas as pd\n",
    "\n",
    "df = pd.read_csv('/Users/przivic/Downloads/Registro para grupos de estudio.csv')\n",
    "\n",
    "df = df.rename(\n",
    "    columns={'Conocimientos de programación': 'coding_skills', 'Conocimientos de Machine Learning': 'ml_skills'}\n",
    ")\n",
    "\n",
    "len(df)"
   ]
  },
  {
   "cell_type": "markdown",
   "metadata": {},
   "source": [
    "# Miramos distribución de las 2 preguntas"
   ]
  },
  {
   "cell_type": "code",
   "execution_count": 2,
   "metadata": {},
   "outputs": [
    {
     "data": {
      "text/plain": [
       "<matplotlib.axes._subplots.AxesSubplot at 0x1176ef5b0>"
      ]
     },
     "execution_count": 2,
     "metadata": {},
     "output_type": "execute_result"
    },
    {
     "data": {
      "image/png": "[encoded data removed]",
      "text/plain": [
       "<Figure size 432x288 with 1 Axes>"
      ]
     },
     "metadata": {
      "needs_background": "light"
     },
     "output_type": "display_data"
    }
   ],
   "source": [
    "df.coding_skills.value_counts().sort_index().plot.bar()"
   ]
  },
  {
   "cell_type": "code",
   "execution_count": 3,
   "metadata": {},
   "outputs": [
    {
     "data": {
      "text/plain": [
       "<matplotlib.axes._subplots.AxesSubplot at 0x1179d4850>"
      ]
     },
     "execution_count": 3,
     "metadata": {},
     "output_type": "execute_result"
    },
    {
     "data": {
      "image/png": "[encoded data removed]",
      "text/plain": [
       "<Figure size 432x288 with 1 Axes>"
      ]
     },
     "metadata": {
      "needs_background": "light"
     },
     "output_type": "display_data"
    }
   ],
   "source": [
    "df.ml_skills.value_counts().sort_index().plot.bar()"
   ]
  },
  {
   "cell_type": "code",
   "execution_count": 4,
   "metadata": {},
   "outputs": [],
   "source": [
    "docs = df.to_dict(orient='records')"
   ]
  },
  {
   "cell_type": "code",
   "execution_count": 5,
   "metadata": {},
   "outputs": [],
   "source": [
    "import numpy as np\n",
    "\n",
    "def max_coding_skills(group):\n",
    "    # devuelve cuanto sabe la persona que mas sabe programacion del grupo\n",
    "    return max([e['coding_skills'] for e in group])\n",
    "\n",
    "def max_ml_skills(group):\n",
    "    # devuelve cuanto sabe la persona que mas sabe machine learning del grupo\n",
    "    return max([e['ml_skills'] for e in group])\n",
    "\n",
    "def bottle_neck(groups):\n",
    "    # devuelve la suma de _bottle_neck\n",
    "    return sum(map(_bottle_neck, groups))\n",
    "\n",
    "def _bottle_neck(group):\n",
    "    # devuelve un numero positivo si hay menos de 2 personas que saben mas de 3 en alguna dimensión\n",
    "    return hinge(2 - len([e for e in group if max(e[k] for k in 'coding_skills ml_skills'.split()) >= 3]))\n",
    "    \n",
    "\n",
    "def hinge(n): return max(0, n)\n",
    "\n",
    "MIN_CODING_SKILLS = 4\n",
    "MIN_ML_SKILLS = 4\n",
    "\n",
    "def var(groups, key):\n",
    "    # calcula la varianza respecto a una key\n",
    "    return sum([np.std([e[key] for e in group]) for group in groups])\n",
    "\n",
    "def loss(groups):\n",
    "    return (\n",
    "        # Todos los grupos tienen que tener alguien que sepa de programacion\n",
    "        sum([hinge(MIN_CODING_SKILLS - max_coding_skills(g)) for g in groups]) + \n",
    "        # Todos los grupos tienen que tener alguien que sepa de machine learning\n",
    "        sum([hinge(MIN_ML_SKILLS - max_ml_skills(g)) for g in groups]) +\n",
    "        # Los grupos deben ser parejos en coding\n",
    "        var(groups, 'coding_skills') + \n",
    "        # Los grupos deben ser parejos en machine learning\n",
    "        var(groups, 'ml_skills') + \n",
    "        # Definitivamente no tiene que haber una persona que sea \"la que sepa todo\"\n",
    "        bottle_neck(groups)\n",
    "    )"
   ]
  },
  {
   "cell_type": "code",
   "execution_count": 6,
   "metadata": {},
   "outputs": [],
   "source": [
    "from time import time\n",
    "from random import shuffle, choice\n",
    "\n",
    "def random_groups(docs, group_size=4):\n",
    "    # Crea una asignación al azar de grupos\n",
    "    shuffle(docs)\n",
    "    return [docs[start:start+group_size] for start in range(0, len(docs), group_size)]\n",
    "\n",
    "def improve_locally(current_sol):\n",
    "    # Toma el peor grupo segun la loss y trata de intercambiar con otros grupos \n",
    "    current_loss = loss(current_sol)\n",
    "    \n",
    "    \n",
    "    i, worst = max(enumerate(current_sol), key=lambda x: loss([x[1]]))\n",
    "    for j, other in enumerate(current_sol):\n",
    "        for wg_i, w_person in enumerate(worst):\n",
    "            for o_i, o_person in enumerate(other):\n",
    "                candidate = (\n",
    "                    [g for k, g in enumerate(current_sol) if k not in [i, j]] + \n",
    "                    [replace(worst, wg_i, o_person), replace(other, o_i, w_person)]\n",
    "                )\n",
    "                \n",
    "                new_loss = loss(candidate)\n",
    "                if new_loss < current_loss:\n",
    "                    return candidate, new_loss\n",
    "                \n",
    "    return current_sol, current_loss\n",
    "    \n",
    "def replace(group, index, person):\n",
    "    res = group[:]\n",
    "    res[index] = person\n",
    "    return res\n",
    "\n",
    "def get_groups(iters=50):\n",
    "    groups = random_groups(docs)\n",
    "    losses = []\n",
    "    t0 = time()\n",
    "    status = 'max_iter'\n",
    "    for i in range(iters):\n",
    "        if time() - t0 > 180: \n",
    "            status = 'timeout'\n",
    "            print('timeout')\n",
    "            break\n",
    "        groups, loss = improve_locally(groups)\n",
    "        if losses and losses[-1] == loss: \n",
    "            status = 'local_minima'\n",
    "            break\n",
    "        losses.append(loss)\n",
    "        \n",
    "    return groups, losses, status"
   ]
  },
  {
   "cell_type": "code",
   "execution_count": 7,
   "metadata": {},
   "outputs": [
    {
     "name": "stderr",
     "output_type": "stream",
     "text": [
      "100%|██████████| 100/100 [15:53<00:00,  9.54s/it]\n"
     ]
    }
   ],
   "source": [
    "from tqdm import tqdm\n",
    "\n",
    "solutions = []\n",
    "for i in tqdm(range(100)):\n",
    "    solutions.append(get_groups(iters=150))"
   ]
  },
  {
   "cell_type": "code",
   "execution_count": 8,
   "metadata": {},
   "outputs": [],
   "source": [
    "import pickle as pkl\n",
    "\n",
    "with open('solutions.pkl', 'wb') as f:\n",
    "    pkl.dump(solutions, f, 2)"
   ]
  },
  {
   "cell_type": "code",
   "execution_count": 9,
   "metadata": {},
   "outputs": [],
   "source": [
    "best, best_losses, best_status = min(solutions, key=lambda x: x[1][-1])"
   ]
  },
  {
   "cell_type": "code",
   "execution_count": 10,
   "metadata": {},
   "outputs": [],
   "source": [
    "to_save = [[e['Username'] for e in g] for g in best]\n",
    "with open('groups.pkl', 'wb') as f:\n",
    "    pkl.dump(to_save, f)"
   ]
  },
  {
   "cell_type": "code",
   "execution_count": 12,
   "metadata": {},
   "outputs": [
    {
     "data": {
      "text/plain": [
       "[<matplotlib.lines.Line2D at 0x117cf4670>]"
      ]
     },
     "execution_count": 12,
     "metadata": {},
     "output_type": "execute_result"
    },
    {
     "data": {
      "image/png": "[encoded data removed]",
      "text/plain": [
       "<Figure size 432x288 with 1 Axes>"
      ]
     },
     "metadata": {
      "needs_background": "light"
     },
     "output_type": "display_data"
    }
   ],
   "source": [
    "import matplotlib.pyplot as plt\n",
    "\n",
    "for g, l, s in solutions:\n",
    "    plt.plot(l, color='k', alpha=0.25)\n",
    "    \n",
    "plt.ylabel('loss')\n",
    "plt.xlabel('move_number')\n",
    "plt.plot(best_losses, lw=3)"
   ]
  },
  {
   "cell_type": "code",
   "execution_count": 13,
   "metadata": {},
   "outputs": [
    {
     "data": {
      "image/png": "[encoded data removed]",
      "text/plain": [
       "<Figure size 432x288 with 1 Axes>"
      ]
     },
     "metadata": {
      "needs_background": "light"
     },
     "output_type": "display_data"
    }
   ],
   "source": [
    "final_losses = [l[-1] for _, l, _ in solutions]\n",
    "plt.boxplot(final_losses);"
   ]
  },
  {
   "cell_type": "markdown",
   "metadata": {},
   "source": [
    "# Revisamos la mejor solucion y vemos que los grupos hayan quedado parejos"
   ]
  },
  {
   "cell_type": "code",
   "execution_count": 37,
   "metadata": {},
   "outputs": [
    {
     "data": {
      "text/plain": [
       "Text(0.5, 1.0, 'max ml skill per group')"
      ]
     },
     "execution_count": 37,
     "metadata": {},
     "output_type": "execute_result"
    },
    {
     "data": {
      "image/png": "[encoded data removed]",
      "text/plain": [
       "<Figure size 432x288 with 1 Axes>"
      ]
     },
     "metadata": {
      "needs_background": "light"
     },
     "output_type": "display_data"
    },
    {
     "data": {
      "image/png": "[encoded data removed]",
      "text/plain": [
       "<Figure size 432x288 with 1 Axes>"
      ]
     },
     "metadata": {
      "needs_background": "light"
     },
     "output_type": "display_data"
    }
   ],
   "source": [
    "x, y = list(zip(*sorted(Counter(list(map(max_coding_skills, best))).items())))\n",
    "plt.bar(x,y)\n",
    "plt.title('max coding skill per group')\n",
    "\n",
    "plt.figure()\n",
    "x, y = list(zip(*sorted(Counter(list(map(max_ml_skills, best))).items())))\n",
    "plt.bar(x,y)\n",
    "plt.title('max ml skill per group');"
   ]
  },
  {
   "cell_type": "code",
   "execution_count": 14,
   "metadata": {
    "scrolled": false
   },
   "outputs": [
    {
     "name": "stdout",
     "output_type": "stream",
     "text": [
      "[{'coding_skills': 4, 'ml_skills': 1},\n",
      " {'coding_skills': 2, 'ml_skills': 3},\n",
      " {'coding_skills': 1, 'ml_skills': 1},\n",
      " {'coding_skills': 1, 'ml_skills': 1}]\n",
      "****************************************\n",
      "[{'coding_skills': 1, 'ml_skills': 1},\n",
      " {'coding_skills': 1, 'ml_skills': 1},\n",
      " {'coding_skills': 4, 'ml_skills': 4},\n",
      " {'coding_skills': 3, 'ml_skills': 2}]\n",
      "****************************************\n",
      "[{'coding_skills': 1, 'ml_skills': 1},\n",
      " {'coding_skills': 4, 'ml_skills': 2},\n",
      " {'coding_skills': 2, 'ml_skills': 1},\n",
      " {'coding_skills': 3, 'ml_skills': 4}]\n",
      "****************************************\n",
      "[{'coding_skills': 4, 'ml_skills': 4},\n",
      " {'coding_skills': 3, 'ml_skills': 1},\n",
      " {'coding_skills': 2, 'ml_skills': 1},\n",
      " {'coding_skills': 2, 'ml_skills': 1}]\n",
      "****************************************\n",
      "[{'coding_skills': 4, 'ml_skills': 4},\n",
      " {'coding_skills': 3, 'ml_skills': 1},\n",
      " {'coding_skills': 2, 'ml_skills': 1},\n",
      " {'coding_skills': 2, 'ml_skills': 1}]\n",
      "****************************************\n",
      "[{'coding_skills': 2, 'ml_skills': 3},\n",
      " {'coding_skills': 2, 'ml_skills': 2},\n",
      " {'coding_skills': 1, 'ml_skills': 1},\n",
      " {'coding_skills': 4, 'ml_skills': 4}]\n",
      "****************************************\n",
      "[{'coding_skills': 1, 'ml_skills': 1},\n",
      " {'coding_skills': 2, 'ml_skills': 1},\n",
      " {'coding_skills': 4, 'ml_skills': 4},\n",
      " {'coding_skills': 3, 'ml_skills': 3}]\n",
      "****************************************\n",
      "[{'coding_skills': 3, 'ml_skills': 3},\n",
      " {'coding_skills': 2, 'ml_skills': 2},\n",
      " {'coding_skills': 2, 'ml_skills': 2},\n",
      " {'coding_skills': 4, 'ml_skills': 2}]\n",
      "****************************************\n",
      "[{'coding_skills': 2, 'ml_skills': 2},\n",
      " {'coding_skills': 2, 'ml_skills': 2},\n",
      " {'coding_skills': 3, 'ml_skills': 3},\n",
      " {'coding_skills': 4, 'ml_skills': 2}]\n",
      "****************************************\n",
      "[{'coding_skills': 2, 'ml_skills': 2},\n",
      " {'coding_skills': 3, 'ml_skills': 1},\n",
      " {'coding_skills': 4, 'ml_skills': 4},\n",
      " {'coding_skills': 3, 'ml_skills': 1}]\n",
      "****************************************\n",
      "[{'coding_skills': 3, 'ml_skills': 2},\n",
      " {'coding_skills': 2, 'ml_skills': 1},\n",
      " {'coding_skills': 3, 'ml_skills': 1},\n",
      " {'coding_skills': 4, 'ml_skills': 4}]\n",
      "****************************************\n",
      "[{'coding_skills': 3, 'ml_skills': 3},\n",
      " {'coding_skills': 1, 'ml_skills': 2},\n",
      " {'coding_skills': 5, 'ml_skills': 4},\n",
      " {'coding_skills': 2, 'ml_skills': 2}]\n",
      "****************************************\n",
      "[{'coding_skills': 5, 'ml_skills': 4},\n",
      " {'coding_skills': 2, 'ml_skills': 2},\n",
      " {'coding_skills': 2, 'ml_skills': 2},\n",
      " {'coding_skills': 3, 'ml_skills': 2}]\n",
      "****************************************\n",
      "[{'coding_skills': 3, 'ml_skills': 4},\n",
      " {'coding_skills': 4, 'ml_skills': 3},\n",
      " {'coding_skills': 2, 'ml_skills': 2},\n",
      " {'coding_skills': 2, 'ml_skills': 2}]\n",
      "****************************************\n",
      "[{'coding_skills': 4, 'ml_skills': 4},\n",
      " {'coding_skills': 3, 'ml_skills': 2},\n",
      " {'coding_skills': 3, 'ml_skills': 2},\n",
      " {'coding_skills': 3, 'ml_skills': 2}]\n",
      "****************************************\n",
      "[{'coding_skills': 4, 'ml_skills': 4},\n",
      " {'coding_skills': 3, 'ml_skills': 3},\n",
      " {'coding_skills': 3, 'ml_skills': 3},\n",
      " {'coding_skills': 1, 'ml_skills': 2}]\n",
      "****************************************\n",
      "[{'coding_skills': 3, 'ml_skills': 2},\n",
      " {'coding_skills': 3, 'ml_skills': 3},\n",
      " {'coding_skills': 3, 'ml_skills': 4},\n",
      " {'coding_skills': 4, 'ml_skills': 1}]\n",
      "****************************************\n",
      "[{'coding_skills': 4, 'ml_skills': 4},\n",
      " {'coding_skills': 3, 'ml_skills': 3},\n",
      " {'coding_skills': 3, 'ml_skills': 2},\n",
      " {'coding_skills': 3, 'ml_skills': 2}]\n",
      "****************************************\n",
      "[{'coding_skills': 4, 'ml_skills': 5},\n",
      " {'coding_skills': 3, 'ml_skills': 2},\n",
      " {'coding_skills': 3, 'ml_skills': 2},\n",
      " {'coding_skills': 3, 'ml_skills': 3}]\n",
      "****************************************\n",
      "[{'coding_skills': 4, 'ml_skills': 3},\n",
      " {'coding_skills': 4, 'ml_skills': 2},\n",
      " {'coding_skills': 3, 'ml_skills': 2},\n",
      " {'coding_skills': 4, 'ml_skills': 4}]\n",
      "****************************************\n",
      "[{'coding_skills': 4, 'ml_skills': 2},\n",
      " {'coding_skills': 4, 'ml_skills': 2},\n",
      " {'coding_skills': 4, 'ml_skills': 3},\n",
      " {'coding_skills': 4, 'ml_skills': 4}]\n",
      "****************************************\n",
      "[{'coding_skills': 6, 'ml_skills': 2},\n",
      " {'coding_skills': 5, 'ml_skills': 4},\n",
      " {'coding_skills': 3, 'ml_skills': 1},\n",
      " {'coding_skills': 4, 'ml_skills': 2}]\n",
      "****************************************\n",
      "[{'coding_skills': 5, 'ml_skills': 1},\n",
      " {'coding_skills': 5, 'ml_skills': 5},\n",
      " {'coding_skills': 3, 'ml_skills': 1},\n",
      " {'coding_skills': 4, 'ml_skills': 3}]\n",
      "****************************************\n",
      "[{'coding_skills': 6, 'ml_skills': 4},\n",
      " {'coding_skills': 5, 'ml_skills': 1},\n",
      " {'coding_skills': 3, 'ml_skills': 2},\n",
      " {'coding_skills': 5, 'ml_skills': 2}]\n",
      "****************************************\n",
      "[{'coding_skills': 4, 'ml_skills': 3},\n",
      " {'coding_skills': 4, 'ml_skills': 2},\n",
      " {'coding_skills': 6, 'ml_skills': 3},\n",
      " {'coding_skills': 4, 'ml_skills': 4}]\n",
      "****************************************\n",
      "[{'coding_skills': 5, 'ml_skills': 2},\n",
      " {'coding_skills': 5, 'ml_skills': 1},\n",
      " {'coding_skills': 7, 'ml_skills': 2},\n",
      " {'coding_skills': 4, 'ml_skills': 4}]\n",
      "****************************************\n",
      "[{'coding_skills': 5, 'ml_skills': 3},\n",
      " {'coding_skills': 5, 'ml_skills': 4},\n",
      " {'coding_skills': 6, 'ml_skills': 3},\n",
      " {'coding_skills': 5, 'ml_skills': 2}]\n",
      "****************************************\n",
      "[{'coding_skills': 7, 'ml_skills': 3},\n",
      " {'coding_skills': 7, 'ml_skills': 2},\n",
      " {'coding_skills': 7, 'ml_skills': 3},\n",
      " {'coding_skills': 7, 'ml_skills': 1}]\n",
      "****************************************\n",
      "[{'coding_skills': 6, 'ml_skills': 4},\n",
      " {'coding_skills': 6, 'ml_skills': 3},\n",
      " {'coding_skills': 6, 'ml_skills': 2},\n",
      " {'coding_skills': 7, 'ml_skills': 3}]\n",
      "****************************************\n",
      "[{'coding_skills': 7, 'ml_skills': 4},\n",
      " {'coding_skills': 7, 'ml_skills': 3},\n",
      " {'coding_skills': 7, 'ml_skills': 2},\n",
      " {'coding_skills': 6, 'ml_skills': 2}]\n",
      "****************************************\n",
      "[{'coding_skills': 7, 'ml_skills': 2},\n",
      " {'coding_skills': 7, 'ml_skills': 4},\n",
      " {'coding_skills': 7, 'ml_skills': 2},\n",
      " {'coding_skills': 7, 'ml_skills': 2}]\n",
      "****************************************\n",
      "[{'coding_skills': 6, 'ml_skills': 6},\n",
      " {'coding_skills': 7, 'ml_skills': 5},\n",
      " {'coding_skills': 7, 'ml_skills': 7}]\n",
      "****************************************\n",
      "[{'coding_skills': 5, 'ml_skills': 5},\n",
      " {'coding_skills': 5, 'ml_skills': 4},\n",
      " {'coding_skills': 6, 'ml_skills': 4},\n",
      " {'coding_skills': 5, 'ml_skills': 5}]\n",
      "****************************************\n",
      "[{'coding_skills': 7, 'ml_skills': 2},\n",
      " {'coding_skills': 7, 'ml_skills': 2},\n",
      " {'coding_skills': 6, 'ml_skills': 3},\n",
      " {'coding_skills': 7, 'ml_skills': 7}]\n",
      "****************************************\n",
      "[{'coding_skills': 5, 'ml_skills': 6},\n",
      " {'coding_skills': 7, 'ml_skills': 3},\n",
      " {'coding_skills': 7, 'ml_skills': 6},\n",
      " {'coding_skills': 6, 'ml_skills': 5}]\n",
      "****************************************\n",
      "[{'coding_skills': 6, 'ml_skills': 5},\n",
      " {'coding_skills': 7, 'ml_skills': 3},\n",
      " {'coding_skills': 5, 'ml_skills': 5},\n",
      " {'coding_skills': 7, 'ml_skills': 7}]\n",
      "****************************************\n"
     ]
    }
   ],
   "source": [
    "from pprint import pprint\n",
    "\n",
    "def tot_skills(g):\n",
    "    return sum([e['coding_skills'] + e['ml_skills'] for e in g])\n",
    "\n",
    "for g in sorted(best, key=tot_skills):\n",
    "    pprint([{k: d[k] for k in 'ml_skills coding_skills'.split()} for d in g])\n",
    "    print(\"*\"*40)"
   ]
  }
 ],
 "metadata": {
  "kernelspec": {
   "display_name": "Python 3",
   "language": "python",
   "name": "python3"
  },
  "language_info": {
   "codemirror_mode": {
    "name": "ipython",
    "version": 3
   },
   "file_extension": ".py",
   "mimetype": "text/x-python",
   "name": "python",
   "nbconvert_exporter": "python",
   "pygments_lexer": "ipython3",
   "version": "3.8.3"
  }
 },
 "nbformat": 4,
 "nbformat_minor": 4
}
